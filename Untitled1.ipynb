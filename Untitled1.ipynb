{
 "cells": [
  {
   "cell_type": "code",
   "execution_count": 2,
   "id": "a5cc025b",
   "metadata": {},
   "outputs": [],
   "source": [
    "import os\n",
    "import glob\n",
    "import numpy as np\n",
    "from PIL import Image\n",
    "\n",
    "# 定义输入和输出文件夹的路径\n",
    "input_dir = './imgs'\n",
    "output_dir = './imgs'\n",
    "\n",
    "# 获取输入文件夹内所有npy文件的路径\n",
    "npy_files = glob.glob(os.path.join(input_dir, '*.npy'))\n",
    "\n",
    "# 遍历所有npy文件\n",
    "for npy_file in npy_files:\n",
    "    # 读取npy文件\n",
    "    data = np.load(npy_file)\n",
    "\n",
    "    # 将数据范围归一化到0-255之间\n",
    "    data = (data - np.min(data)) / (np.max(data) - np.min(data)) * 255\n",
    "\n",
    "    # 将数据转换为8位整型数组\n",
    "    data = data.astype(np.uint8)\n",
    "\n",
    "    # 创建PIL Image对象\n",
    "    img = Image.fromarray(data)\n",
    "\n",
    "    # 获取输入文件的文件名，并更改扩展名为png\n",
    "    filename = os.path.splitext(+os.path.basename(npy_file))[0] + '.png'\n",
    "\n",
    "    # 创建输出文件的完整路径\n",
    "    output_file = os.path.join(output_dir, filename)\n",
    "\n",
    "    # 导出png文件\n",
    "    img.save(output_file)\n"
   ]
  },
  {
   "cell_type": "code",
   "execution_count": null,
   "id": "48500b7c",
   "metadata": {},
   "outputs": [],
   "source": []
  }
 ],
 "metadata": {
  "kernelspec": {
   "display_name": "py3.7",
   "language": "python",
   "name": "py3.7"
  },
  "language_info": {
   "codemirror_mode": {
    "name": "ipython",
    "version": 3
   },
   "file_extension": ".py",
   "mimetype": "text/x-python",
   "name": "python",
   "nbconvert_exporter": "python",
   "pygments_lexer": "ipython3",
   "version": "3.7.1"
  }
 },
 "nbformat": 4,
 "nbformat_minor": 5
}
